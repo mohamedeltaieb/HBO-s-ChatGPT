{
 "cells": [
  {
   "cell_type": "code",
   "execution_count": 1,
   "metadata": {},
   "outputs": [
    {
     "name": "stderr",
     "output_type": "stream",
     "text": [
      "[nltk_data] Downloading package punkt to\n",
      "[nltk_data]     C:\\Users\\Office\\AppData\\Roaming\\nltk_data...\n",
      "[nltk_data]   Package punkt is already up-to-date!\n"
     ]
    }
   ],
   "source": [
    "import nltk\n",
    "from nltk.tokenize import word_tokenize\n",
    "import spacy\n",
    "\n",
    "# Download NLTK resources (run once)\n",
    "nltk.download('punkt')\n",
    "\n",
    "# Initialize spaCy model\n",
    "nlp = spacy.load('en_core_web_sm')\n"
   ]
  },
  {
   "cell_type": "code",
   "execution_count": 2,
   "metadata": {},
   "outputs": [],
   "source": [
    "course_info = {\n",
    "    'AI': 'Artificial Intelligence courses cover topics such as machine learning, deep learning, and neural networks.',\n",
    "    'ML': 'Machine Learning courses focus on algorithms and techniques for predictive modeling and data analysis.',\n",
    "    'Data Science': 'Data Science courses teach data analysis, visualization, and machine learning techniques for extracting insights from data.',\n",
    "    'Cybersecurity': 'Cybersecurity courses focus on protecting computer systems, networks, and data from cyber attacks and unauthorized access.',\n",
    "    'Front End Development': 'Front End courses cover web development technologies such as HTML, CSS, and JavaScript, focusing on the user interface and experience.',\n",
    "    'Android Development': 'Android courses teach app development for the Android operating system using Java or Kotlin programming languages.',\n",
    "    'Flutter Development': 'Flutter courses focus on building cross-platform mobile applications using the Flutter framework, developed by Google.',\n",
    "    'Backend Development': 'Backend courses cover server-side development, database management, and API design to support web and mobile applications.'\n",
    "}"
   ]
  },
  {
   "cell_type": "code",
   "execution_count": 3,
   "metadata": {},
   "outputs": [],
   "source": [
    "def get_response(query):\n",
    "    query_tokens = word_tokenize(query.lower())  # Tokenize query\n",
    "    doc = nlp(query)  # Process query with spaCy\n",
    "    # Check if query mentions a course category\n",
    "    for token in doc:\n",
    "        if token.text in course_info:\n",
    "            return course_info[token.text]  # Return course description\n",
    "    return \"I'm sorry, I don't understand. Can you please ask another question?\"\n"
   ]
  },
  {
   "cell_type": "code",
   "execution_count": 3,
   "metadata": {},
   "outputs": [
    {
     "name": "stdout",
     "output_type": "stream",
     "text": [
      "Welcome to the Courses Chatbot!\n",
      "You can ask me about different course categories.\n"
     ]
    }
   ],
   "source": [
    "def main():\n",
    "    print(\"Welcome to the Courses Chatbot!\")\n",
    "    print(\"You can ask me about different course categories.\")\n",
    "\n",
    "   # print(\"Welcome to the Courses Chatbot! You can ask me about different course categories.\")\n",
    "    while True:\n",
    "        user_input = input(\"You: \").lower()\n",
    "        if user_input == \"exit\":\n",
    "            print(\"Chatbot: Goodbye!\")\n",
    "            break\n",
    "        elif \"ai\" in user_input:\n",
    "            print(\"Chatbot: Artificial Intelligence courses cover topics such as machine learning, deep learning, and neural networks.\")\n",
    "        elif \"data science\" in user_input:\n",
    "            print(\"Chatbot: Data Science courses teach data analysis, visualization, and machine learning techniques for extracting insights from data.\")\n",
    "        elif \"cybersecurity\" in user_input:\n",
    "            print(\"Chatbot: Cybersecurity courses focus on protecting computer systems, networks, and data from cyber attacks and unauthorized access.\")\n",
    "        elif \"front end\" in user_input:\n",
    "            print(\"Chatbot: Front End courses cover web development technologies such as HTML, CSS, and JavaScript, focusing on the user interface and experience.\")\n",
    "        elif \"android\" in user_input:\n",
    "            print(\"Chatbot: Android courses teach app development for the Android operating system using Java or Kotlin programming languages.\")\n",
    "        elif \"flutter\" in user_input:\n",
    "            print(\"Chatbot: Flutter courses focus on building cross-platform mobile applications using the Flutter framework, developed by Google.\")\n",
    "        elif \"backend\" in user_input:\n",
    "            print(\"Chatbot: Backend courses cover server-side development, database management, and API design to support web and mobile applications.\")\n",
    "\n",
    "        elif user_input == \"help\":\n",
    "                print(\"Chatbot: You can ask me about different course categories or type 'exit' to end the conversation.\")\n",
    "        elif user_input == \"user manual\":\n",
    "                print(\"Chatbot: Here is the user manual for using the platform:\")\n",
    "                print(\"1. To navigate the website, use the menu bar at the top.\")\n",
    "                print(\"2. To register an account, click on the 'Register' button and fill in the required information.\")\n",
    "                print(\"3. To look for courses, use the search bar or browse through the categories.\")\n",
    "                print(\"4. To use the chatbot, type your questions in the chatbox and press Enter.\")\n",
    "                print(\"5. To access the admin panel, log in as an admin using the provided credentials.\")\n",
    "        elif user_input == \"contact\":\n",
    "                print(\"Chatbot: For support and feedback, please contact us at support@example.com.\")\n",
    "            \n",
    "        else:\n",
    "            print(\"Chatbot: I'm sorry, I don't understand. Can you please ask another question?\")\n",
    "\n",
    "            response = get_response(user_input)\n",
    "            print(\"Chatbot:\", response)\n",
    "            \n",
    "            \n",
    "if __name__ == \"__main__\":\n",
    "   main()\n"
   ]
  }
 ],
 "metadata": {
  "kernelspec": {
   "display_name": "Python 3",
   "language": "python",
   "name": "python3"
  },
  "language_info": {
   "codemirror_mode": {
    "name": "ipython",
    "version": 3
   },
   "file_extension": ".py",
   "mimetype": "text/x-python",
   "name": "python",
   "nbconvert_exporter": "python",
   "pygments_lexer": "ipython3",
   "version": "3.11.5"
  }
 },
 "nbformat": 4,
 "nbformat_minor": 2
}
